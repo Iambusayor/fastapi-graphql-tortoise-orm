{
 "cells": [
  {
   "cell_type": "code",
   "execution_count": 2,
   "source": [
    "from main import models\n",
    "from tortoise import Tortoise, run_async\n",
    "import nest_asyncio\n",
    "import asyncio\n",
    "from main.models import Twitter, RedditPostTable, RedditCommentTable, Github"
   ],
   "outputs": [],
   "metadata": {}
  },
  {
   "cell_type": "code",
   "execution_count": 3,
   "source": [
    "async def init():\n",
    "    await Tortoise.init(\n",
    "        db_url=\"sqlite:////home/busayor/Shiii/FastAPI/torotise-orm/app/test.db\",\n",
    "        modules={'models': ['main.models']}\n",
    "    )\n",
    "    await Tortoise.generate_schemas()"
   ],
   "outputs": [],
   "metadata": {}
  },
  {
   "cell_type": "code",
   "execution_count": 4,
   "source": [
    "nest_asyncio.apply()\n",
    "run_async(init())"
   ],
   "outputs": [],
   "metadata": {}
  },
  {
   "cell_type": "code",
   "execution_count": 5,
   "source": [
    "## Populate database\n",
    "asyncio.run(Twitter.bulk_create([\n",
    "    Twitter(\n",
    "        tweet_id=1213245124,\n",
    "        tweet=\"Hey first tweet! Great!\", \n",
    "        posted_at=\"2021-03-01\",\n",
    "        likes=50,\n",
    "        retweets=32,\n",
    "        sentiment_score=0.7,\n",
    "        asa_id=\"ChoiceCoin\",\n",
    "     ),\n",
    "    Twitter(\n",
    "        tweet_id=1611245324,\n",
    "        tweet=\"Hey! Second tweet!\",\n",
    "        posted_at=\"2021-03-06\",\n",
    "        likes=3,\n",
    "        retweets=12,\n",
    "        sentiment_score=0.4,\n",
    "        asa_id=\"ChoiceCoin\",\n",
    "    ),\n",
    "    Twitter(\n",
    "        tweet_id=1213245107,\n",
    "        tweet=\"Third tweet! Just there\",\n",
    "        posted_at=\"2021-03-08\",\n",
    "        likes=5,\n",
    "        retweets=45,\n",
    "        sentiment_score=0.6,\n",
    "        asa_id=\"ChoiceCoin\",\n",
    "    ),\n",
    "    Twitter(\n",
    "        tweet_id=1213245891,\n",
    "        tweet=\"Bad!!\",\n",
    "        posted_at=\"2021-03-15\",\n",
    "        likes=0,\n",
    "        retweets=2,\n",
    "        sentiment_score=0.3,\n",
    "        asa_id=\"ChoiceCoin\",\n",
    "    ),\n",
    "    Twitter(\n",
    "        tweet_id=4321451234,\n",
    "        tweet=\"Bad, not good!\",\n",
    "        posted_at=\"2021-03-21\",\n",
    "        likes=0,\n",
    "        retweets=4,\n",
    "        sentiment_score=0.3,\n",
    "        asa_id=\"ChoiceCoin\",\n",
    "    )\n",
    "])\n",
    ")\n",
    "\n",
    "\n",
    "\n"
   ],
   "outputs": [
    {
     "output_type": "execute_result",
     "data": {
      "text/plain": [
       "[<Twitter: 1213245124>,\n",
       " <Twitter: 1611245324>,\n",
       " <Twitter: 1213245107>,\n",
       " <Twitter: 1213245891>,\n",
       " <Twitter: 4321451234>]"
      ]
     },
     "metadata": {},
     "execution_count": 5
    }
   ],
   "metadata": {}
  },
  {
   "cell_type": "code",
   "execution_count": 6,
   "source": [
    "asyncio.run(RedditPostTable.create(\n",
    "        post_id=\"auiwes4\",\n",
    "        title=\"Great Post\",\n",
    "        text=\"Heyy! Yo! This coin is to the moon !!\",\n",
    "        score=41,\n",
    "        num_of_comments=5,\n",
    "        time_created=\"2021-02-28\",\n",
    "        url=\"getpost.com\",\n",
    "        sentiment_score=0.8,\n",
    "        asa_id=\"YieldlyFinance\",\n",
    "        ))\n"
   ],
   "outputs": [
    {
     "output_type": "execute_result",
     "data": {
      "text/plain": [
       "<RedditPostTable: auiwes4>"
      ]
     },
     "metadata": {},
     "execution_count": 6
    }
   ],
   "metadata": {}
  },
  {
   "cell_type": "code",
   "execution_count": 12,
   "source": [
    "asyncio.run(RedditCommentTable.bulk_create([\n",
    "    RedditCommentTable(\n",
    "        comment_id=\"iegedo3e8\",\n",
    "        body=\"comment 1\",\n",
    "        score=50,\n",
    "        time_created=\"2021-03-01\",\n",
    "        sentiment_score=0.7,\n",
    "        post_id=\"auiwes4\",\n",
    "    ),\n",
    "    RedditCommentTable(\n",
    "        comment_id=\"iegeddfde8\",\n",
    "        body=\"comment 2\",\n",
    "        score=3,\n",
    "        time_created=\"2021-03-06\",\n",
    "        sentiment_score=0.4,\n",
    "        post_id=\"auiwes4\",\n",
    "    ),\n",
    "    RedditCommentTable(\n",
    "        comment_id=\"iegd3e4548\",\n",
    "        body=\"comment 3\",\n",
    "        score=5,\n",
    "        time_created=\"2021-03-08\",\n",
    "        sentiment_score=0.6,\n",
    "        post_id=\"auiwes4\",\n",
    "    ),\n",
    "    RedditCommentTable(\n",
    "        comment_id=\"i334edo3e8\",\n",
    "        body=\"comment 4\",\n",
    "        score=0,\n",
    "        time_created=\"2021-03-15\",\n",
    "        sentiment_score=0.3,\n",
    "        post_id=\"auiwes4\",\n",
    "    ),\n",
    "    RedditCommentTable(\n",
    "        comment_id=\"iejjed3e8\",\n",
    "        body=\"comment 5\",\n",
    "        score=0,\n",
    "        time_created=\"2021-03-21\",\n",
    "        sentiment_score=0.3,\n",
    "        post_id=\"auiwes4\",\n",
    "    ),\n",
    "]))\n"
   ],
   "outputs": [
    {
     "output_type": "execute_result",
     "data": {
      "text/plain": [
       "[<RedditCommentTable: iegedo3e8>,\n",
       " <RedditCommentTable: iegeddfde8>,\n",
       " <RedditCommentTable: iegd3e4548>,\n",
       " <RedditCommentTable: i334edo3e8>,\n",
       " <RedditCommentTable: iejjed3e8>]"
      ]
     },
     "metadata": {},
     "execution_count": 12
    }
   ],
   "metadata": {}
  },
  {
   "cell_type": "code",
   "execution_count": 7,
   "source": [],
   "outputs": [],
   "metadata": {}
  },
  {
   "cell_type": "code",
   "execution_count": 10,
   "source": [
    "asyncio.run(Github.bulk_create([\n",
    "    Github(\n",
    "        repo_name=\"repo1\",\n",
    "        repo_desc=\"desc 1\",\n",
    "        date_created=\"2020-07-05\",\n",
    "        last_push_date=\"2021-03-01\",\n",
    "        language=\"rust\",\n",
    "        no_of_forks=6,\n",
    "        no_of_stars=24,\n",
    "        no_of_watches=22,\n",
    "        no_of_contributors=7,\n",
    "        no_of_commits=14,\n",
    "        issues=5,\n",
    "        pull_requests=13,\n",
    "        asa_id=\"YieldlyFinance\",\n",
    "    ),\n",
    "    Github(\n",
    "        repo_name=\"repo2\",\n",
    "        repo_desc=\"desc 2\",\n",
    "        date_created=\"2021-02-01\",\n",
    "        last_push_date=\"2022-04-01\",\n",
    "        language=\"ruby\",\n",
    "        no_of_forks=3,\n",
    "        no_of_stars=50,\n",
    "        no_of_watches=12,\n",
    "        no_of_contributors=4,\n",
    "        no_of_commits=20,\n",
    "        issues=11,\n",
    "        pull_requests=41,\n",
    "        asa_id=\"YieldlyFinance\",\n",
    "    ),\n",
    "    Github(\n",
    "        repo_name=\"repo3\",\n",
    "        repo_desc=\"desc 3\",\n",
    "        date_created=\"2022-01-31\",\n",
    "        last_push_date=\"2022-04-30\",\n",
    "        language=\"scala\",\n",
    "        no_of_forks=3,\n",
    "        no_of_stars=50,\n",
    "        no_of_watches=18,\n",
    "        no_of_contributors=20,\n",
    "        no_of_commits=20,\n",
    "        issues=5,\n",
    "        pull_requests=17,\n",
    "        asa_id=\"YieldlyFinance\",\n",
    "    ),\n",
    "]))"
   ],
   "outputs": [
    {
     "output_type": "execute_result",
     "data": {
      "text/plain": [
       "[<Github: repo1>, <Github: repo2>, <Github: repo3>]"
      ]
     },
     "metadata": {},
     "execution_count": 10
    }
   ],
   "metadata": {}
  },
  {
   "cell_type": "code",
   "execution_count": 15,
   "source": [
    "from main.models import Twitter_Pydantic, Github_Pydantic, Post_Pydantic, Comment_Pydantic"
   ],
   "outputs": [],
   "metadata": {}
  },
  {
   "cell_type": "code",
   "execution_count": 18,
   "source": [
    "result = asyncio.run(Twitter_Pydantic.from_queryset(Twitter.filter(asa_id=\"ChoiceCoin\")))"
   ],
   "outputs": [],
   "metadata": {}
  },
  {
   "cell_type": "code",
   "execution_count": 19,
   "source": [
    "type(result)"
   ],
   "outputs": [
    {
     "output_type": "execute_result",
     "data": {
      "text/plain": [
       "list"
      ]
     },
     "metadata": {},
     "execution_count": 19
    }
   ],
   "metadata": {}
  },
  {
   "cell_type": "code",
   "execution_count": 22,
   "source": [
    "y = Twitter.filter(asa_id=\"ChoiceCoin\")"
   ],
   "outputs": [],
   "metadata": {}
  },
  {
   "cell_type": "code",
   "execution_count": 24,
   "source": [
    "y.exists()"
   ],
   "outputs": [
    {
     "output_type": "execute_result",
     "data": {
      "text/plain": [
       "<tortoise.queryset.ExistsQuery at 0x7f508066bb40>"
      ]
     },
     "metadata": {},
     "execution_count": 24
    }
   ],
   "metadata": {}
  },
  {
   "cell_type": "code",
   "execution_count": 35,
   "source": [
    "result[1].dict()"
   ],
   "outputs": [
    {
     "output_type": "execute_result",
     "data": {
      "text/plain": [
       "{'tweet_id': 1213245124,\n",
       " 'tweet': 'Hey first tweet! Great!',\n",
       " 'posted_at': datetime.datetime(2021, 3, 1, 0, 0, tzinfo=<UTC>),\n",
       " 'likes': 50,\n",
       " 'retweets': 32,\n",
       " 'sentiment_score': 0.7}"
      ]
     },
     "metadata": {},
     "execution_count": 35
    }
   ],
   "metadata": {}
  },
  {
   "cell_type": "code",
   "execution_count": 100,
   "source": [
    "y = asyncio.run(Twitter.filter(asa_id=\"ChoiceCoin\").values())"
   ],
   "outputs": [],
   "metadata": {}
  },
  {
   "cell_type": "code",
   "execution_count": 107,
   "source": [
    "asyncio.run(Twitter.filter(asa_id=\"ChoiceCoin\").exists())"
   ],
   "outputs": [
    {
     "output_type": "execute_result",
     "data": {
      "text/plain": [
       "True"
      ]
     },
     "metadata": {},
     "execution_count": 107
    }
   ],
   "metadata": {}
  },
  {
   "cell_type": "code",
   "execution_count": 102,
   "source": [
    "h = {key: [i[key] for i in y] for key in y[0]}\n",
    "h"
   ],
   "outputs": [
    {
     "output_type": "execute_result",
     "data": {
      "text/plain": [
       "{'tweet_id': [1213245107, 1213245124, 1213245891, 1611245324, 4321451234],\n",
       " 'tweet': ['Third tweet! Just there',\n",
       "  'Hey first tweet! Great!',\n",
       "  'Bad!!',\n",
       "  'Hey! Second tweet!',\n",
       "  'Bad, not good!'],\n",
       " 'posted_at': [datetime.datetime(2021, 3, 8, 0, 0, tzinfo=<UTC>),\n",
       "  datetime.datetime(2021, 3, 1, 0, 0, tzinfo=<UTC>),\n",
       "  datetime.datetime(2021, 3, 15, 0, 0, tzinfo=<UTC>),\n",
       "  datetime.datetime(2021, 3, 6, 0, 0, tzinfo=<UTC>),\n",
       "  datetime.datetime(2021, 3, 21, 0, 0, tzinfo=<UTC>)],\n",
       " 'likes': [5, 50, 0, 3, 0],\n",
       " 'retweets': [45, 32, 2, 12, 4],\n",
       " 'sentiment_score': [0.6, 0.7, 0.3, 0.4, 0.3],\n",
       " 'asa_id': ['ChoiceCoin',\n",
       "  'ChoiceCoin',\n",
       "  'ChoiceCoin',\n",
       "  'ChoiceCoin',\n",
       "  'ChoiceCoin']}"
      ]
     },
     "metadata": {},
     "execution_count": 102
    }
   ],
   "metadata": {}
  },
  {
   "cell_type": "code",
   "execution_count": 111,
   "source": [
    "h['tweet']"
   ],
   "outputs": [
    {
     "output_type": "execute_result",
     "data": {
      "text/plain": [
       "['Third tweet! Just there',\n",
       " 'Hey first tweet! Great!',\n",
       " 'Bad!!',\n",
       " 'Hey! Second tweet!',\n",
       " 'Bad, not good!']"
      ]
     },
     "metadata": {},
     "execution_count": 111
    }
   ],
   "metadata": {}
  },
  {
   "cell_type": "code",
   "execution_count": 122,
   "source": [
    "class DateTimeEncoder(json.JSONEncoder):\n",
    "    def default(self, o):\n",
    "        if isinstance(o, datetime):\n",
    "            return o.isoformat()\n",
    "\n",
    "        return json.JSONEncoder.default(self, o)\n",
    "\n",
    "j = json.dumps(h, cls=DateTimeEncoder)"
   ],
   "outputs": [],
   "metadata": {}
  },
  {
   "cell_type": "code",
   "execution_count": 125,
   "source": [
    "x = {\n",
    "  \"name\": \"John\",\n",
    "  \"age\": 30,\n",
    "  \"city\": \"New York\"\n",
    "}\n",
    "json.dumps(x)\n"
   ],
   "outputs": [
    {
     "output_type": "execute_result",
     "data": {
      "text/plain": [
       "'{\"name\": \"John\", \"age\": 30, \"city\": \"New York\"}'"
      ]
     },
     "metadata": {},
     "execution_count": 125
    }
   ],
   "metadata": {}
  },
  {
   "cell_type": "code",
   "execution_count": 114,
   "source": [
    "tweet"
   ],
   "outputs": [
    {
     "output_type": "execute_result",
     "data": {
      "text/plain": [
       "__main__.Twitter"
      ]
     },
     "metadata": {},
     "execution_count": 114
    }
   ],
   "metadata": {}
  },
  {
   "cell_type": "code",
   "execution_count": 126,
   "source": [
    "class AttrDict(dict):\n",
    "    def __init__(self, *args, **kwargs):\n",
    "        super(AttrDict, self).__init__(*args, **kwargs)\n",
    "        self.__dict__ = self"
   ],
   "outputs": [],
   "metadata": {}
  },
  {
   "cell_type": "code",
   "execution_count": 129,
   "source": [
    "j = AttrDict(h)"
   ],
   "outputs": [],
   "metadata": {}
  },
  {
   "cell_type": "code",
   "execution_count": 161,
   "source": [
    "l = await RedditPostTable.filter(asa_id=\"ChoiceCoin\").values()"
   ],
   "outputs": [],
   "metadata": {}
  },
  {
   "cell_type": "code",
   "execution_count": 162,
   "source": [
    "# h = {key: [i[key] for i in y] for key in y[0]}\n",
    "l = {key: [i[key] for i in l] for key in l[0]}"
   ],
   "outputs": [],
   "metadata": {}
  },
  {
   "cell_type": "code",
   "execution_count": 164,
   "source": [
    "l[\"post_id\"][0]"
   ],
   "outputs": [
    {
     "output_type": "execute_result",
     "data": {
      "text/plain": [
       "'auiwes4'"
      ]
     },
     "metadata": {},
     "execution_count": 164
    }
   ],
   "metadata": {}
  },
  {
   "cell_type": "code",
   "execution_count": 146,
   "source": [
    "await RedditCommentTable.filter(\n",
    "        post_id=['aui\n",
    "    ).values()"
   ],
   "outputs": [
    {
     "output_type": "error",
     "ename": "SyntaxError",
     "evalue": "EOL while scanning string literal (3556057405.py, line 2)",
     "traceback": [
      "\u001b[0;36m  Input \u001b[0;32mIn [146]\u001b[0;36m\u001b[0m\n\u001b[0;31m    post_id=['aui\u001b[0m\n\u001b[0m                 ^\u001b[0m\n\u001b[0;31mSyntaxError\u001b[0m\u001b[0;31m:\u001b[0m EOL while scanning string literal\n"
     ]
    }
   ],
   "metadata": {}
  },
  {
   "cell_type": "code",
   "execution_count": null,
   "source": [],
   "outputs": [],
   "metadata": {}
  },
  {
   "cell_type": "code",
   "execution_count": null,
   "source": [],
   "outputs": [],
   "metadata": {}
  },
  {
   "cell_type": "code",
   "execution_count": null,
   "source": [],
   "outputs": [],
   "metadata": {}
  }
 ],
 "metadata": {
  "orig_nbformat": 4,
  "language_info": {
   "name": "python",
   "version": "3.9.2",
   "mimetype": "text/x-python",
   "codemirror_mode": {
    "name": "ipython",
    "version": 3
   },
   "pygments_lexer": "ipython3",
   "nbconvert_exporter": "python",
   "file_extension": ".py"
  },
  "kernelspec": {
   "name": "python3",
   "display_name": "Python 3.9.2 64-bit ('venv': venv)"
  },
  "interpreter": {
   "hash": "e590c22f84134be84adbe1187c9a3101e25aad3db2fd54bf831eb31b1bd7843d"
  }
 },
 "nbformat": 4,
 "nbformat_minor": 2
}